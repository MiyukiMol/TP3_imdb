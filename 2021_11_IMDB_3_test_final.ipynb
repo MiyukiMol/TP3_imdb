{
 "cells": [
  {
   "cell_type": "code",
   "execution_count": 7,
   "id": "61884122",
   "metadata": {},
   "outputs": [],
   "source": [
    "import numpy as np\n",
    "import pandas as pd\n",
    "import matplotlib.pyplot as plt\n",
    "import seaborn as sns \n",
    "import joblib\n",
    "import pickle as pkl\n",
    "from sklearn.svm import SVC\n",
    "from sklearn.model_selection import GridSearchCV\n",
    "from sklearn.metrics import accuracy_score\n",
    "from sklearn.metrics import roc_auc_score\n",
    "from sklearn.metrics import plot_roc_curve\n",
    "from sklearn.metrics import confusion_matrix"
   ]
  },
  {
   "cell_type": "markdown",
   "id": "610e3cfb",
   "metadata": {},
   "source": [
    "#### chargement des donnée de test"
   ]
  },
  {
   "cell_type": "code",
   "execution_count": 8,
   "id": "1ebe1721",
   "metadata": {},
   "outputs": [],
   "source": [
    "X_test = joblib.load(\"X_test.joblib\")"
   ]
  },
  {
   "cell_type": "code",
   "execution_count": 9,
   "id": "5e3e114a",
   "metadata": {},
   "outputs": [],
   "source": [
    "y_test = joblib.load(\"y_test.joblib\")"
   ]
  },
  {
   "cell_type": "markdown",
   "id": "8835cc11",
   "metadata": {},
   "source": [
    "#### chargement de modèle"
   ]
  },
  {
   "cell_type": "code",
   "execution_count": 10,
   "id": "d524805e",
   "metadata": {},
   "outputs": [],
   "source": [
    "model_svc_c10 = joblib.load(\"clf_svc_best.pkl\")"
   ]
  },
  {
   "cell_type": "code",
   "execution_count": 11,
   "id": "7d1ea0f4",
   "metadata": {},
   "outputs": [
    {
     "data": {
      "text/plain": [
       "SVC(C=10, gamma=0.001, random_state=42)"
      ]
     },
     "execution_count": 11,
     "metadata": {},
     "output_type": "execute_result"
    }
   ],
   "source": [
    "model_svc_c10"
   ]
  },
  {
   "cell_type": "markdown",
   "id": "f478896d",
   "metadata": {},
   "source": [
    "#### test avec le modèle"
   ]
  },
  {
   "cell_type": "code",
   "execution_count": 12,
   "id": "6c5f9539",
   "metadata": {},
   "outputs": [],
   "source": [
    "y_test_c10_pred = model_svc_c10.predict(X_test)"
   ]
  },
  {
   "cell_type": "code",
   "execution_count": 13,
   "id": "a43beb59",
   "metadata": {},
   "outputs": [
    {
     "name": "stdout",
     "output_type": "stream",
     "text": [
      "test accuracy: 0.88272\n"
     ]
    }
   ],
   "source": [
    "accuracy_test_c10 = accuracy_score(y_test, y_test_c10_pred)\n",
    "print(f'test accuracy: {accuracy_test_c10}')"
   ]
  },
  {
   "cell_type": "code",
   "execution_count": 20,
   "id": "3287b0aa",
   "metadata": {},
   "outputs": [
    {
     "data": {
      "text/plain": [
       "'# test score = accuracy\\nmodel_svc_c10.score(X_test, y_test)'"
      ]
     },
     "execution_count": 20,
     "metadata": {},
     "output_type": "execute_result"
    }
   ],
   "source": [
    "\"\"\"# test score = accuracy\n",
    "model_svc_c10.score(X_test, y_test)\"\"\""
   ]
  },
  {
   "cell_type": "markdown",
   "id": "8005ee6c",
   "metadata": {},
   "source": [
    "#### Courbe ROC, AUC for test"
   ]
  },
  {
   "cell_type": "code",
   "execution_count": 15,
   "id": "fa570fe3",
   "metadata": {},
   "outputs": [],
   "source": [
    "roc_auc_score = roc_auc_score(y_test, y_test_c10_pred)"
   ]
  },
  {
   "cell_type": "code",
   "execution_count": 16,
   "id": "c18d81a5",
   "metadata": {},
   "outputs": [
    {
     "name": "stdout",
     "output_type": "stream",
     "text": [
      "AUC_test : 0.883\n"
     ]
    }
   ],
   "source": [
    "print('AUC_test : {:.3f}'.format(roc_auc_score))"
   ]
  },
  {
   "cell_type": "code",
   "execution_count": 17,
   "id": "238848f4",
   "metadata": {},
   "outputs": [],
   "source": [
    "from sklearn.metrics import plot_roc_curve"
   ]
  },
  {
   "cell_type": "code",
   "execution_count": 19,
   "id": "eaeb0baa",
   "metadata": {},
   "outputs": [
    {
     "data": {
      "image/png": "[encoded data removed]",
      "text/plain": [
       "<Figure size 432x288 with 1 Axes>"
      ]
     },
     "metadata": {
      "needs_background": "light"
     },
     "output_type": "display_data"
    }
   ],
   "source": [
    "plot_roc_curve(model_svc_c10, X_test, y_test) \n",
    "plt.show()"
   ]
  },
  {
   "cell_type": "code",
   "execution_count": null,
   "id": "18b4965d",
   "metadata": {},
   "outputs": [],
   "source": [
    "\"\"\"from sklearn.metrics import roc_curve\"\"\""
   ]
  },
  {
   "cell_type": "code",
   "execution_count": null,
   "id": "63455a43",
   "metadata": {},
   "outputs": [],
   "source": [
    "\"\"\"roc_test = roc_curve(y_test, y_test_c10_pred)\"\"\""
   ]
  },
  {
   "cell_type": "code",
   "execution_count": null,
   "id": "1614f60f",
   "metadata": {},
   "outputs": [],
   "source": [
    "\"\"\"#fig = plt.figure(figsize=(10, 7), dpi=100)\n",
    "plt.plot(fpr, tpr)\n",
    "plt.title('Courbe ROC for test')\n",
    "plt.xlabel('FPR: False positive rate')\n",
    "plt.ylabel('TPR: True positive rate')\n",
    "plt.show()\"\"\""
   ]
  },
  {
   "cell_type": "code",
   "execution_count": null,
   "id": "b6045764",
   "metadata": {},
   "outputs": [],
   "source": []
  },
  {
   "cell_type": "code",
   "execution_count": null,
   "id": "50d8ce1c",
   "metadata": {},
   "outputs": [],
   "source": []
  },
  {
   "cell_type": "code",
   "execution_count": null,
   "id": "dca93576",
   "metadata": {},
   "outputs": [],
   "source": []
  },
  {
   "cell_type": "code",
   "execution_count": null,
   "id": "c0803587",
   "metadata": {},
   "outputs": [],
   "source": []
  },
  {
   "cell_type": "markdown",
   "id": "43247142",
   "metadata": {},
   "source": [
    "#### matrix de confusion"
   ]
  },
  {
   "cell_type": "code",
   "execution_count": 14,
   "id": "70d4d32f",
   "metadata": {},
   "outputs": [],
   "source": [
    "#création de matrix de confusion\n",
    "cm_test_c10 = confusion_matrix(y_test, y_test_c10_pred)"
   ]
  },
  {
   "cell_type": "code",
   "execution_count": 15,
   "id": "8e4417a6",
   "metadata": {},
   "outputs": [
    {
     "data": {
      "text/plain": [
       "array([[10971,  1529],\n",
       "       [ 1403, 11097]], dtype=int64)"
      ]
     },
     "execution_count": 15,
     "metadata": {},
     "output_type": "execute_result"
    }
   ],
   "source": [
    "cm_test_c10"
   ]
  },
  {
   "cell_type": "code",
   "execution_count": 16,
   "id": "8cd2caaf",
   "metadata": {},
   "outputs": [
    {
     "data": {
      "image/png": "[encoded data removed]",
      "text/plain": [
       "<Figure size 432x288 with 2 Axes>"
      ]
     },
     "metadata": {
      "needs_background": "light"
     },
     "output_type": "display_data"
    }
   ],
   "source": [
    "#pour RAJOUTER les labels et les pourcentages sur le graphique, passer par seaborn\n",
    "#fig = plt.figure(figsize=(15, 7), dpi=100)\n",
    "ax= plt.subplot()\n",
    "\n",
    "group_names = ['True_Neg','False_Pos','False_Neg','True_Pos']\n",
    "group_counts = [\"{0:0.0f}\".format(value) for value in cm_test_c10.flatten()]\n",
    "group_percentages1 = [\"{0:.3%}\".format(value) for value in cm_test_c10.flatten()[0:2]/np.sum(cm_test_c10.flatten()[0:2])]\n",
    "group_percentages2 = [\"{0:.3%}\".format(value) for value in cm_test_c10.flatten()[2:]/np.sum(cm_test_c10.flatten()[2:])]\n",
    "group_percentages = np.append(group_percentages1, group_percentages2).tolist()\n",
    "labels = [f\"{v1}\\n{v2}\\n{v3}\" for v1, v2, v3 in zip (group_names, group_counts, group_percentages)]\n",
    "labels = np.array(labels).reshape(2,2)\n",
    "\n",
    "sns.heatmap(cm_test_c10, annot=labels, fmt='', cmap='Blues')\n",
    "\n",
    "ax.set_xlabel('Predited labels')\n",
    "ax.set_ylabel('True labels') \n",
    "ax.set_title('Confusion Matrix Test') \n",
    "\n",
    "plt.show()"
   ]
  },
  {
   "cell_type": "code",
   "execution_count": null,
   "id": "bb72e839",
   "metadata": {},
   "outputs": [],
   "source": []
  },
  {
   "cell_type": "code",
   "execution_count": null,
   "id": "595fc933",
   "metadata": {},
   "outputs": [],
   "source": []
  },
  {
   "cell_type": "code",
   "execution_count": null,
   "id": "f3283613",
   "metadata": {},
   "outputs": [],
   "source": []
  },
  {
   "cell_type": "markdown",
   "id": "ae90cfa5",
   "metadata": {},
   "source": [
    "modèle over fitting"
   ]
  },
  {
   "cell_type": "code",
   "execution_count": 8,
   "id": "acdaca6c",
   "metadata": {},
   "outputs": [],
   "source": [
    "# modèle over fitting\n",
    "model_svc = joblib.load(\"clf_svc.pkl\")"
   ]
  },
  {
   "cell_type": "code",
   "execution_count": 9,
   "id": "8b60ec8e",
   "metadata": {},
   "outputs": [
    {
     "data": {
      "text/plain": [
       "SVC(C=100, gamma=0.01, random_state=42)"
      ]
     },
     "execution_count": 9,
     "metadata": {},
     "output_type": "execute_result"
    }
   ],
   "source": [
    "model_svc "
   ]
  },
  {
   "cell_type": "code",
   "execution_count": 12,
   "id": "1276eed0",
   "metadata": {},
   "outputs": [],
   "source": [
    "y_test_pred = model_svc.predict(X_test)"
   ]
  },
  {
   "cell_type": "code",
   "execution_count": 13,
   "id": "c611d144",
   "metadata": {},
   "outputs": [
    {
     "name": "stdout",
     "output_type": "stream",
     "text": [
      "test accuracy: 0.88572\n"
     ]
    }
   ],
   "source": [
    "accuracy_test = accuracy_score(y_test, y_test_pred)\n",
    "print(f'test accuracy: {accuracy_test}')"
   ]
  },
  {
   "cell_type": "code",
   "execution_count": 11,
   "id": "438bca71",
   "metadata": {},
   "outputs": [
    {
     "data": {
      "text/plain": [
       "0.88572"
      ]
     },
     "execution_count": 11,
     "metadata": {},
     "output_type": "execute_result"
    }
   ],
   "source": [
    "# test score = accuracy\n",
    "model_svc.score(X_test, y_test)"
   ]
  },
  {
   "cell_type": "code",
   "execution_count": null,
   "id": "10cf1ab8",
   "metadata": {},
   "outputs": [],
   "source": []
  },
  {
   "cell_type": "code",
   "execution_count": null,
   "id": "4d91523a",
   "metadata": {},
   "outputs": [],
   "source": []
  },
  {
   "cell_type": "code",
   "execution_count": 15,
   "id": "be8f3eac",
   "metadata": {},
   "outputs": [],
   "source": [
    "#création de matrix de confusion\n",
    "cm_test = confusion_matrix(y_test, y_test_pred)"
   ]
  },
  {
   "cell_type": "code",
   "execution_count": 16,
   "id": "4eed5138",
   "metadata": {},
   "outputs": [
    {
     "data": {
      "text/plain": [
       "array([[11003,  1497],\n",
       "       [ 1360, 11140]], dtype=int64)"
      ]
     },
     "execution_count": 16,
     "metadata": {},
     "output_type": "execute_result"
    }
   ],
   "source": [
    "cm_test"
   ]
  },
  {
   "cell_type": "code",
   "execution_count": 20,
   "id": "9e575f73",
   "metadata": {},
   "outputs": [
    {
     "data": {
      "image/png": "[encoded data removed]",
      "text/plain": [
       "<Figure size 432x288 with 2 Axes>"
      ]
     },
     "metadata": {
      "needs_background": "light"
     },
     "output_type": "display_data"
    }
   ],
   "source": [
    "# Matrice de confusion pour le train\n",
    "#c_m_TRAIN = confusion_matrix(y_true=y_train, y_pred=model.predict(X_train_scaled))\n",
    "#c_m_TRAIN\n",
    "\n",
    "#pour RAJOUTER les labels et les pourcentages sur le graphique, passer par seaborn\n",
    "#fig = plt.figure(figsize=(15, 7), dpi=100)\n",
    "ax= plt.subplot()\n",
    "\n",
    "group_names = ['True_Neg','False_Pos','False_Neg','True_Pos']\n",
    "group_counts = [\"{0:0.0f}\".format(value) for value in cm_test.flatten()]\n",
    "group_percentages1 = [\"{0:.3%}\".format(value) for value in cm_test.flatten()[0:2]/np.sum(cm_test.flatten()[0:2])]\n",
    "group_percentages2 = [\"{0:.3%}\".format(value) for value in cm_test.flatten()[2:]/np.sum(cm_test.flatten()[2:])]\n",
    "group_percentages = np.append(group_percentages1, group_percentages2).tolist()\n",
    "labels = [f\"{v1}\\n{v2}\\n{v3}\" for v1, v2, v3 in zip (group_names, group_counts, group_percentages)]\n",
    "labels = np.array(labels).reshape(2,2)\n",
    "\n",
    "sns.heatmap(cm_test, annot=labels, fmt='', cmap='Blues')\n",
    "\n",
    "ax.set_xlabel('Predited labels')\n",
    "ax.set_ylabel('True labels') \n",
    "ax.set_title('Confusion Matrix Test') \n",
    "\n",
    "plt.show()"
   ]
  },
  {
   "cell_type": "code",
   "execution_count": null,
   "id": "9c414e67",
   "metadata": {},
   "outputs": [],
   "source": []
  },
  {
   "cell_type": "code",
   "execution_count": null,
   "id": "6f537863",
   "metadata": {},
   "outputs": [],
   "source": []
  },
  {
   "cell_type": "markdown",
   "id": "935e9e62",
   "metadata": {},
   "source": [
    "https://note.nkmk.me/python-sklearn-roc-curve-auc-score/\n",
    "\n",
    "https://ichi.pro/shizen-gengo-shori-no-shoshinshamuke-gaido-pa-to-1-126973807478989"
   ]
  },
  {
   "cell_type": "code",
   "execution_count": null,
   "id": "4a884a17",
   "metadata": {},
   "outputs": [],
   "source": []
  },
  {
   "cell_type": "code",
   "execution_count": null,
   "id": "41cbcc3c",
   "metadata": {},
   "outputs": [],
   "source": []
  },
  {
   "cell_type": "code",
   "execution_count": null,
   "id": "3a8f3e0a",
   "metadata": {},
   "outputs": [],
   "source": []
  }
 ],
 "metadata": {
  "kernelspec": {
   "display_name": "Python 3 (ipykernel)",
   "language": "python",
   "name": "python3"
  },
  "language_info": {
   "codemirror_mode": {
    "name": "ipython",
    "version": 3
   },
   "file_extension": ".py",
   "mimetype": "text/x-python",
   "name": "python",
   "nbconvert_exporter": "python",
   "pygments_lexer": "ipython3",
   "version": "3.8.12"
  }
 },
 "nbformat": 4,
 "nbformat_minor": 5
}
