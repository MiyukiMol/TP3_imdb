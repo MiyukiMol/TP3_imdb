{
 "cells": [
  {
   "cell_type": "code",
   "execution_count": 1,
   "id": "12d1d5f4",
   "metadata": {},
   "outputs": [],
   "source": [
    "import numpy as np\n",
    "import pandas as pd\n",
    "import joblib\n",
    "import pickle as pkl\n",
    "from sklearn.linear_model import LogisticRegression\n",
    "from sklearn.model_selection import GridSearchCV\n",
    "from sklearn.metrics import accuracy_score\n",
    "from sklearn.metrics import confusion_matrix"
   ]
  },
  {
   "cell_type": "markdown",
   "id": "2ebc0fa3",
   "metadata": {},
   "source": [
    "### chargement de données"
   ]
  },
  {
   "cell_type": "code",
   "execution_count": 2,
   "id": "38ed13d5",
   "metadata": {},
   "outputs": [],
   "source": [
    "#X_train, X_test, y_train, y_test = joblib.load(\"data_split.pkl\")"
   ]
  },
  {
   "cell_type": "code",
   "execution_count": 2,
   "id": "93d2fe3d",
   "metadata": {},
   "outputs": [],
   "source": [
    "y_train = joblib.load(\"y_train.joblib\")"
   ]
  },
  {
   "cell_type": "code",
   "execution_count": 3,
   "id": "fe899edd",
   "metadata": {},
   "outputs": [],
   "source": [
    "X_train = joblib.load(\"X_train.joblib\")"
   ]
  },
  {
   "cell_type": "code",
   "execution_count": 4,
   "id": "78b11f9f",
   "metadata": {},
   "outputs": [],
   "source": [
    "X_test = joblib.load(\"X_test.joblib\")"
   ]
  },
  {
   "cell_type": "code",
   "execution_count": 5,
   "id": "4c7cc332",
   "metadata": {},
   "outputs": [],
   "source": [
    "y_test = joblib.load(\"y_test.joblib\")"
   ]
  },
  {
   "cell_type": "code",
   "execution_count": null,
   "id": "7ca58e40",
   "metadata": {},
   "outputs": [],
   "source": []
  },
  {
   "cell_type": "markdown",
   "id": "8efbed79",
   "metadata": {},
   "source": [
    "### gridsearch for LogisticRegression"
   ]
  },
  {
   "cell_type": "code",
   "execution_count": 10,
   "id": "1f6c6b81",
   "metadata": {},
   "outputs": [
    {
     "name": "stdout",
     "output_type": "stream",
     "text": [
      "Fitting 3 folds for each of 3 candidates, totalling 9 fits\n"
     ]
    },
    {
     "name": "stderr",
     "output_type": "stream",
     "text": [
      "C:\\Users\\nante\\anaconda3\\envs\\simplon\\lib\\site-packages\\sklearn\\linear_model\\_logistic.py:763: ConvergenceWarning: lbfgs failed to converge (status=1):\n",
      "STOP: TOTAL NO. of ITERATIONS REACHED LIMIT.\n",
      "\n",
      "Increase the number of iterations (max_iter) or scale the data as shown in:\n",
      "    https://scikit-learn.org/stable/modules/preprocessing.html\n",
      "Please also refer to the documentation for alternative solver options:\n",
      "    https://scikit-learn.org/stable/modules/linear_model.html#logistic-regression\n",
      "  n_iter_i = _check_optimize_result(\n"
     ]
    },
    {
     "data": {
      "text/plain": [
       "GridSearchCV(cv=3,\n",
       "             estimator=LogisticRegression(random_state=42, warm_start=True),\n",
       "             n_jobs=2,\n",
       "             param_grid=[{'C': [0.001, 0.01, 0.1],\n",
       "                          'class_weight': ['balanced']}],\n",
       "             return_train_score=True, verbose=2)"
      ]
     },
     "execution_count": 10,
     "metadata": {},
     "output_type": "execute_result"
    }
   ],
   "source": [
    "# 解説5：グリッドサーチを設定する---------------------------------------------------\n",
    "#clf=SVC(class_weight='balanced', random_state=42)\n",
    "clf = LogisticRegression(warm_start=True, random_state=42)\n",
    "\n",
    "C =[0.001,0.01,0.1] #変化させるパラメータに設定する値たち\n",
    "hyper_param_grid=[{'C':C,\n",
    "                   'class_weight':['balanced']}] #Cとカーネルとgammaを変化させて最適化させる\n",
    "\n",
    "clf_grid_search = GridSearchCV(\n",
    "    estimator = clf, \n",
    "    param_grid = hyper_param_grid, \n",
    "    cv=3,     \n",
    "    return_train_score=True,\n",
    "    n_jobs=2,\n",
    "    verbose=2)\n",
    "\n",
    "clf_grid_search.fit(X_train, y_train)"
   ]
  },
  {
   "cell_type": "code",
   "execution_count": 11,
   "id": "ba93deb8",
   "metadata": {},
   "outputs": [
    {
     "data": {
      "text/html": [
       "<div>\n",
       "<style scoped>\n",
       "    .dataframe tbody tr th:only-of-type {\n",
       "        vertical-align: middle;\n",
       "    }\n",
       "\n",
       "    .dataframe tbody tr th {\n",
       "        vertical-align: top;\n",
       "    }\n",
       "\n",
       "    .dataframe thead th {\n",
       "        text-align: right;\n",
       "    }\n",
       "</style>\n",
       "<table border=\"1\" class=\"dataframe\">\n",
       "  <thead>\n",
       "    <tr style=\"text-align: right;\">\n",
       "      <th></th>\n",
       "      <th>0</th>\n",
       "      <th>1</th>\n",
       "      <th>2</th>\n",
       "    </tr>\n",
       "  </thead>\n",
       "  <tbody>\n",
       "    <tr>\n",
       "      <th>mean_fit_time</th>\n",
       "      <td>17.142373</td>\n",
       "      <td>26.205111</td>\n",
       "      <td>38.547822</td>\n",
       "    </tr>\n",
       "    <tr>\n",
       "      <th>std_fit_time</th>\n",
       "      <td>2.0992</td>\n",
       "      <td>3.59733</td>\n",
       "      <td>10.700152</td>\n",
       "    </tr>\n",
       "    <tr>\n",
       "      <th>mean_score_time</th>\n",
       "      <td>1.092917</td>\n",
       "      <td>0.743707</td>\n",
       "      <td>0.541464</td>\n",
       "    </tr>\n",
       "    <tr>\n",
       "      <th>std_score_time</th>\n",
       "      <td>0.216433</td>\n",
       "      <td>0.188461</td>\n",
       "      <td>0.208173</td>\n",
       "    </tr>\n",
       "    <tr>\n",
       "      <th>param_C</th>\n",
       "      <td>0.001</td>\n",
       "      <td>0.01</td>\n",
       "      <td>0.1</td>\n",
       "    </tr>\n",
       "    <tr>\n",
       "      <th>param_class_weight</th>\n",
       "      <td>balanced</td>\n",
       "      <td>balanced</td>\n",
       "      <td>balanced</td>\n",
       "    </tr>\n",
       "    <tr>\n",
       "      <th>params</th>\n",
       "      <td>{'C': 0.001, 'class_weight': 'balanced'}</td>\n",
       "      <td>{'C': 0.01, 'class_weight': 'balanced'}</td>\n",
       "      <td>{'C': 0.1, 'class_weight': 'balanced'}</td>\n",
       "    </tr>\n",
       "    <tr>\n",
       "      <th>split0_test_score</th>\n",
       "      <td>0.841013</td>\n",
       "      <td>0.87437</td>\n",
       "      <td>0.883129</td>\n",
       "    </tr>\n",
       "    <tr>\n",
       "      <th>split1_test_score</th>\n",
       "      <td>0.846754</td>\n",
       "      <td>0.872915</td>\n",
       "      <td>0.882635</td>\n",
       "    </tr>\n",
       "    <tr>\n",
       "      <th>split2_test_score</th>\n",
       "      <td>0.845914</td>\n",
       "      <td>0.875435</td>\n",
       "      <td>0.882515</td>\n",
       "    </tr>\n",
       "    <tr>\n",
       "      <th>mean_test_score</th>\n",
       "      <td>0.84456</td>\n",
       "      <td>0.87424</td>\n",
       "      <td>0.88276</td>\n",
       "    </tr>\n",
       "    <tr>\n",
       "      <th>std_test_score</th>\n",
       "      <td>0.002532</td>\n",
       "      <td>0.001033</td>\n",
       "      <td>0.000266</td>\n",
       "    </tr>\n",
       "    <tr>\n",
       "      <th>rank_test_score</th>\n",
       "      <td>3</td>\n",
       "      <td>2</td>\n",
       "      <td>1</td>\n",
       "    </tr>\n",
       "    <tr>\n",
       "      <th>split0_train_score</th>\n",
       "      <td>0.858154</td>\n",
       "      <td>0.907476</td>\n",
       "      <td>0.961118</td>\n",
       "    </tr>\n",
       "    <tr>\n",
       "      <th>split1_train_score</th>\n",
       "      <td>0.857143</td>\n",
       "      <td>0.908802</td>\n",
       "      <td>0.961481</td>\n",
       "    </tr>\n",
       "    <tr>\n",
       "      <th>split2_train_score</th>\n",
       "      <td>0.856663</td>\n",
       "      <td>0.907122</td>\n",
       "      <td>0.959021</td>\n",
       "    </tr>\n",
       "    <tr>\n",
       "      <th>mean_train_score</th>\n",
       "      <td>0.85732</td>\n",
       "      <td>0.9078</td>\n",
       "      <td>0.96054</td>\n",
       "    </tr>\n",
       "    <tr>\n",
       "      <th>std_train_score</th>\n",
       "      <td>0.000622</td>\n",
       "      <td>0.000723</td>\n",
       "      <td>0.001084</td>\n",
       "    </tr>\n",
       "  </tbody>\n",
       "</table>\n",
       "</div>"
      ],
      "text/plain": [
       "                                                           0  \\\n",
       "mean_fit_time                                      17.142373   \n",
       "std_fit_time                                          2.0992   \n",
       "mean_score_time                                     1.092917   \n",
       "std_score_time                                      0.216433   \n",
       "param_C                                                0.001   \n",
       "param_class_weight                                  balanced   \n",
       "params              {'C': 0.001, 'class_weight': 'balanced'}   \n",
       "split0_test_score                                   0.841013   \n",
       "split1_test_score                                   0.846754   \n",
       "split2_test_score                                   0.845914   \n",
       "mean_test_score                                      0.84456   \n",
       "std_test_score                                      0.002532   \n",
       "rank_test_score                                            3   \n",
       "split0_train_score                                  0.858154   \n",
       "split1_train_score                                  0.857143   \n",
       "split2_train_score                                  0.856663   \n",
       "mean_train_score                                     0.85732   \n",
       "std_train_score                                     0.000622   \n",
       "\n",
       "                                                          1  \\\n",
       "mean_fit_time                                     26.205111   \n",
       "std_fit_time                                        3.59733   \n",
       "mean_score_time                                    0.743707   \n",
       "std_score_time                                     0.188461   \n",
       "param_C                                                0.01   \n",
       "param_class_weight                                 balanced   \n",
       "params              {'C': 0.01, 'class_weight': 'balanced'}   \n",
       "split0_test_score                                   0.87437   \n",
       "split1_test_score                                  0.872915   \n",
       "split2_test_score                                  0.875435   \n",
       "mean_test_score                                     0.87424   \n",
       "std_test_score                                     0.001033   \n",
       "rank_test_score                                           2   \n",
       "split0_train_score                                 0.907476   \n",
       "split1_train_score                                 0.908802   \n",
       "split2_train_score                                 0.907122   \n",
       "mean_train_score                                     0.9078   \n",
       "std_train_score                                    0.000723   \n",
       "\n",
       "                                                         2  \n",
       "mean_fit_time                                    38.547822  \n",
       "std_fit_time                                     10.700152  \n",
       "mean_score_time                                   0.541464  \n",
       "std_score_time                                    0.208173  \n",
       "param_C                                                0.1  \n",
       "param_class_weight                                balanced  \n",
       "params              {'C': 0.1, 'class_weight': 'balanced'}  \n",
       "split0_test_score                                 0.883129  \n",
       "split1_test_score                                 0.882635  \n",
       "split2_test_score                                 0.882515  \n",
       "mean_test_score                                    0.88276  \n",
       "std_test_score                                    0.000266  \n",
       "rank_test_score                                          1  \n",
       "split0_train_score                                0.961118  \n",
       "split1_train_score                                0.961481  \n",
       "split2_train_score                                0.959021  \n",
       "mean_train_score                                   0.96054  \n",
       "std_train_score                                   0.001084  "
      ]
     },
     "execution_count": 11,
     "metadata": {},
     "output_type": "execute_result"
    }
   ],
   "source": [
    "results=pd.DataFrame(clf_grid_search.cv_results_)\n",
    "results.T"
   ]
  },
  {
   "cell_type": "code",
   "execution_count": 12,
   "id": "0b351c31",
   "metadata": {},
   "outputs": [
    {
     "data": {
      "text/plain": [
       "{'C': 0.1, 'class_weight': 'balanced'}"
      ]
     },
     "execution_count": 12,
     "metadata": {},
     "output_type": "execute_result"
    }
   ],
   "source": [
    "# to see the best hyperparameters\n",
    "\n",
    "clf_grid_search.best_params_"
   ]
  },
  {
   "cell_type": "code",
   "execution_count": 13,
   "id": "50a8051d",
   "metadata": {},
   "outputs": [
    {
     "data": {
      "text/plain": [
       "0.882759985225423"
      ]
     },
     "execution_count": 13,
     "metadata": {},
     "output_type": "execute_result"
    }
   ],
   "source": [
    "# to see the best validation score\n",
    "clf_grid_search.best_score_"
   ]
  },
  {
   "cell_type": "code",
   "execution_count": 14,
   "id": "e5aae247",
   "metadata": {},
   "outputs": [
    {
     "data": {
      "text/plain": [
       "LogisticRegression(C=0.1, class_weight='balanced', random_state=42,\n",
       "                   warm_start=True)"
      ]
     },
     "execution_count": 14,
     "metadata": {},
     "output_type": "execute_result"
    }
   ],
   "source": [
    "# to see the best hyperparameters\n",
    "clf_LR = clf_grid_search.best_estimator_\n",
    "clf_LR"
   ]
  },
  {
   "cell_type": "markdown",
   "id": "37db538b",
   "metadata": {},
   "source": [
    "modèle avec best hyperparameters est over fitting\n",
    "\n",
    "    train score(accuracy): 1.0\n",
    "    validation score(accuracy) : 0.8833599516286866\n",
    "\n",
    "donc c'est mieux de prendre le modèle avec test_rank_score=3\n",
    "    \n",
    "    train score(accuracy): 0.9078\n",
    "    validation score(accuracy) : 0.87424\n",
    "    train score(accuracy) - validation score(accuracy) = 0.034\n",
    "\n",
    "LogisticRegression(C=0.01, class_weight='balanced', random_state=42, warm_start=True)\n"
   ]
  },
  {
   "cell_type": "markdown",
   "id": "d0059426",
   "metadata": {},
   "source": [
    "### Focus sur le meilleur modele"
   ]
  },
  {
   "cell_type": "markdown",
   "id": "099f4c65",
   "metadata": {},
   "source": [
    "#### save the best model avec joblib"
   ]
  },
  {
   "cell_type": "code",
   "execution_count": null,
   "id": "e872b510",
   "metadata": {},
   "outputs": [],
   "source": [
    "clf_lr_best = LogisticRegression(C=0.01, class_weight='balanced', random_state=42, warm_start=True)"
   ]
  },
  {
   "cell_type": "code",
   "execution_count": null,
   "id": "29bf238a",
   "metadata": {},
   "outputs": [],
   "source": [
    "clf_lr_best.fit(X_train, y_train)"
   ]
  },
  {
   "cell_type": "code",
   "execution_count": null,
   "id": "16bffee2",
   "metadata": {},
   "outputs": [],
   "source": [
    "%%time\n",
    "# 構築したモデルの保存\n",
    "filename = 'clf_lr_best.pkl'\n",
    "joblib.dump(clf_lr_best,filename)"
   ]
  },
  {
   "cell_type": "code",
   "execution_count": null,
   "id": "cb43507a",
   "metadata": {},
   "outputs": [],
   "source": []
  },
  {
   "cell_type": "markdown",
   "id": "c5839cde",
   "metadata": {},
   "source": [
    "#### matrix de confusion"
   ]
  },
  {
   "cell_type": "code",
   "execution_count": 18,
   "id": "1005fed4",
   "metadata": {},
   "outputs": [],
   "source": [
    "#création de matrix de confusion\n",
    "#cm_train = confusion_matrix(y_train, y_train_pred)"
   ]
  },
  {
   "cell_type": "code",
   "execution_count": 19,
   "id": "cb74ff12",
   "metadata": {},
   "outputs": [
    {
     "data": {
      "text/plain": [
       "array([[12500,     0],\n",
       "       [    0, 12500]], dtype=int64)"
      ]
     },
     "execution_count": 19,
     "metadata": {},
     "output_type": "execute_result"
    }
   ],
   "source": [
    "#cm_train"
   ]
  },
  {
   "cell_type": "code",
   "execution_count": null,
   "id": "878acfa5",
   "metadata": {},
   "outputs": [],
   "source": []
  },
  {
   "cell_type": "code",
   "execution_count": null,
   "id": "8d6d3835",
   "metadata": {},
   "outputs": [],
   "source": []
  },
  {
   "cell_type": "markdown",
   "id": "2a016acb",
   "metadata": {},
   "source": [
    "### save the best model avec joblib"
   ]
  },
  {
   "cell_type": "code",
   "execution_count": 11,
   "id": "1e954c07",
   "metadata": {},
   "outputs": [
    {
     "name": "stdout",
     "output_type": "stream",
     "text": [
      "Wall time: 965 ms\n"
     ]
    },
    {
     "data": {
      "text/plain": [
       "['clf_svc.pkl']"
      ]
     },
     "execution_count": 11,
     "metadata": {},
     "output_type": "execute_result"
    }
   ],
   "source": [
    "%%time\n",
    "# 構築したモデルの保存\n",
    "filename = 'clf_RL.pkl'\n",
    "joblib.dump(clf_RL,filename)"
   ]
  },
  {
   "cell_type": "code",
   "execution_count": null,
   "id": "ef49479e",
   "metadata": {},
   "outputs": [],
   "source": []
  },
  {
   "cell_type": "code",
   "execution_count": null,
   "id": "b3c1be1b",
   "metadata": {},
   "outputs": [],
   "source": []
  },
  {
   "cell_type": "markdown",
   "id": "9eb17186",
   "metadata": {},
   "source": [
    "https://www.salesanalytics.co.jp/datascience/datascience044/"
   ]
  },
  {
   "cell_type": "code",
   "execution_count": null,
   "id": "438e420a",
   "metadata": {},
   "outputs": [],
   "source": []
  },
  {
   "cell_type": "code",
   "execution_count": null,
   "id": "1face0c1",
   "metadata": {},
   "outputs": [],
   "source": []
  }
 ],
 "metadata": {
  "kernelspec": {
   "display_name": "Python 3 (ipykernel)",
   "language": "python",
   "name": "python3"
  },
  "language_info": {
   "codemirror_mode": {
    "name": "ipython",
    "version": 3
   },
   "file_extension": ".py",
   "mimetype": "text/x-python",
   "name": "python",
   "nbconvert_exporter": "python",
   "pygments_lexer": "ipython3",
   "version": "3.8.12"
  }
 },
 "nbformat": 4,
 "nbformat_minor": 5
}
