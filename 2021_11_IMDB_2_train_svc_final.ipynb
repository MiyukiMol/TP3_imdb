{
 "cells": [
  {
   "cell_type": "code",
   "execution_count": 1,
   "id": "12d1d5f4",
   "metadata": {},
   "outputs": [],
   "source": [
    "import numpy as np\n",
    "import pandas as pd\n",
    "import joblib\n",
    "import pickle as pkl\n",
    "from sklearn.svm import SVC\n",
    "from sklearn.model_selection import GridSearchCV\n",
    "from sklearn.metrics import accuracy_score\n",
    "from sklearn.metrics import confusion_matrix"
   ]
  },
  {
   "cell_type": "markdown",
   "id": "2ebc0fa3",
   "metadata": {},
   "source": [
    "### chargement de données"
   ]
  },
  {
   "cell_type": "code",
   "execution_count": 2,
   "id": "38ed13d5",
   "metadata": {},
   "outputs": [],
   "source": [
    "#X_train, X_test, y_train, y_test = joblib.load(\"data_split.pkl\")"
   ]
  },
  {
   "cell_type": "code",
   "execution_count": 5,
   "id": "93d2fe3d",
   "metadata": {},
   "outputs": [],
   "source": [
    "y_train = joblib.load(\"y_train.joblib\")"
   ]
  },
  {
   "cell_type": "code",
   "execution_count": 6,
   "id": "fe899edd",
   "metadata": {},
   "outputs": [],
   "source": [
    "X_train = joblib.load(\"X_train.joblib\")"
   ]
  },
  {
   "cell_type": "code",
   "execution_count": 4,
   "id": "78b11f9f",
   "metadata": {},
   "outputs": [],
   "source": [
    "X_test = joblib.load(\"X_test.joblib\")"
   ]
  },
  {
   "cell_type": "code",
   "execution_count": 5,
   "id": "4c7cc332",
   "metadata": {},
   "outputs": [],
   "source": [
    "y_test = joblib.load(\"y_test.joblib\")"
   ]
  },
  {
   "cell_type": "markdown",
   "id": "8efbed79",
   "metadata": {},
   "source": [
    "### gridsearch for SVC"
   ]
  },
  {
   "cell_type": "code",
   "execution_count": 6,
   "id": "1f6c6b81",
   "metadata": {},
   "outputs": [
    {
     "name": "stdout",
     "output_type": "stream",
     "text": [
      "Fitting 3 folds for each of 6 candidates, totalling 18 fits\n",
      "[CV] END ......................C=10, gamma=0.001, kernel=rbf; total time=25.9min\n",
      "[CV] END ......................C=10, gamma=0.001, kernel=rbf; total time=27.4min\n",
      "[CV] END ......................C=10, gamma=0.001, kernel=rbf; total time=28.7min\n",
      "[CV] END .......................C=10, gamma=0.01, kernel=rbf; total time=87.8min\n",
      "[CV] END .......................C=10, gamma=0.01, kernel=rbf; total time=87.0min\n",
      "[CV] END .......................C=10, gamma=0.01, kernel=rbf; total time=90.7min\n",
      "[CV] END .....................C=100, gamma=0.001, kernel=rbf; total time=48.8min\n",
      "[CV] END .....................C=100, gamma=0.001, kernel=rbf; total time=48.0min\n",
      "[CV] END .....................C=100, gamma=0.001, kernel=rbf; total time=48.6min\n",
      "[CV] END ......................C=100, gamma=0.01, kernel=rbf; total time=88.2min\n",
      "[CV] END ......................C=100, gamma=0.01, kernel=rbf; total time=99.7min\n",
      "[CV] END ......................C=100, gamma=0.01, kernel=rbf; total time=89.1min\n",
      "[CV] END ....................C=1000, gamma=0.001, kernel=rbf; total time=49.7min\n",
      "[CV] END ....................C=1000, gamma=0.001, kernel=rbf; total time=49.0min\n",
      "[CV] END ....................C=1000, gamma=0.001, kernel=rbf; total time=51.5min\n",
      "[CV] END .....................C=1000, gamma=0.01, kernel=rbf; total time=88.8min\n",
      "[CV] END .....................C=1000, gamma=0.01, kernel=rbf; total time=88.5min\n",
      "[CV] END .....................C=1000, gamma=0.01, kernel=rbf; total time=91.2min\n"
     ]
    },
    {
     "data": {
      "text/plain": [
       "GridSearchCV(cv=3, estimator=SVC(random_state=42),\n",
       "             param_grid=[{'C': [10, 100, 1000], 'gamma': [0.001, 0.01],\n",
       "                          'kernel': ['rbf']}],\n",
       "             return_train_score=True, verbose=2)"
      ]
     },
     "execution_count": 6,
     "metadata": {},
     "output_type": "execute_result"
    }
   ],
   "source": [
    "# 解説5：グリッドサーチを設定する---------------------------------------------------\n",
    "#clf=SVC(class_weight='balanced', random_state=42)\n",
    "clf=SVC(random_state=42)\n",
    "\n",
    "param_range1=[0.001,0.01] #変化させるパラメータに設定する値たち\n",
    "param_range2=[10,100,1000]\n",
    "hyper_param_grid=[{'C':param_range2,\n",
    "             'kernel':['rbf'], \n",
    "             'gamma':param_range1}] #Cとカーネルとgammaを変化させて最適化させる\n",
    "\n",
    "clf_grid_search = GridSearchCV(\n",
    "    estimator = clf, \n",
    "    param_grid = hyper_param_grid, \n",
    "    cv=3, \n",
    "    return_train_score=True,\n",
    "    verbose=2)\n",
    "\n",
    "clf_grid_search.fit(X_train, y_train)"
   ]
  },
  {
   "cell_type": "code",
   "execution_count": 12,
   "id": "ba93deb8",
   "metadata": {},
   "outputs": [
    {
     "data": {
      "text/html": [
       "<div>\n",
       "<style scoped>\n",
       "    .dataframe tbody tr th:only-of-type {\n",
       "        vertical-align: middle;\n",
       "    }\n",
       "\n",
       "    .dataframe tbody tr th {\n",
       "        vertical-align: top;\n",
       "    }\n",
       "\n",
       "    .dataframe thead th {\n",
       "        text-align: right;\n",
       "    }\n",
       "</style>\n",
       "<table border=\"1\" class=\"dataframe\">\n",
       "  <thead>\n",
       "    <tr style=\"text-align: right;\">\n",
       "      <th></th>\n",
       "      <th>0</th>\n",
       "      <th>1</th>\n",
       "      <th>2</th>\n",
       "      <th>3</th>\n",
       "      <th>4</th>\n",
       "      <th>5</th>\n",
       "    </tr>\n",
       "  </thead>\n",
       "  <tbody>\n",
       "    <tr>\n",
       "      <th>mean_fit_time</th>\n",
       "      <td>935.323572</td>\n",
       "      <td>4193.65592</td>\n",
       "      <td>2312.319777</td>\n",
       "      <td>4422.959512</td>\n",
       "      <td>2425.164634</td>\n",
       "      <td>4290.382791</td>\n",
       "    </tr>\n",
       "    <tr>\n",
       "      <th>std_fit_time</th>\n",
       "      <td>54.219685</td>\n",
       "      <td>59.723849</td>\n",
       "      <td>25.393948</td>\n",
       "      <td>299.220161</td>\n",
       "      <td>37.253767</td>\n",
       "      <td>57.268851</td>\n",
       "    </tr>\n",
       "    <tr>\n",
       "      <th>mean_score_time</th>\n",
       "      <td>704.999566</td>\n",
       "      <td>1118.76803</td>\n",
       "      <td>596.532618</td>\n",
       "      <td>1118.591475</td>\n",
       "      <td>580.343967</td>\n",
       "      <td>1080.23657</td>\n",
       "    </tr>\n",
       "    <tr>\n",
       "      <th>std_score_time</th>\n",
       "      <td>30.548035</td>\n",
       "      <td>38.3213</td>\n",
       "      <td>36.516442</td>\n",
       "      <td>16.730515</td>\n",
       "      <td>26.454818</td>\n",
       "      <td>31.113071</td>\n",
       "    </tr>\n",
       "    <tr>\n",
       "      <th>param_C</th>\n",
       "      <td>10</td>\n",
       "      <td>10</td>\n",
       "      <td>100</td>\n",
       "      <td>100</td>\n",
       "      <td>1000</td>\n",
       "      <td>1000</td>\n",
       "    </tr>\n",
       "    <tr>\n",
       "      <th>param_gamma</th>\n",
       "      <td>0.001</td>\n",
       "      <td>0.01</td>\n",
       "      <td>0.001</td>\n",
       "      <td>0.01</td>\n",
       "      <td>0.001</td>\n",
       "      <td>0.01</td>\n",
       "    </tr>\n",
       "    <tr>\n",
       "      <th>param_kernel</th>\n",
       "      <td>rbf</td>\n",
       "      <td>rbf</td>\n",
       "      <td>rbf</td>\n",
       "      <td>rbf</td>\n",
       "      <td>rbf</td>\n",
       "      <td>rbf</td>\n",
       "    </tr>\n",
       "    <tr>\n",
       "      <th>params</th>\n",
       "      <td>{'C': 10, 'gamma': 0.001, 'kernel': 'rbf'}</td>\n",
       "      <td>{'C': 10, 'gamma': 0.01, 'kernel': 'rbf'}</td>\n",
       "      <td>{'C': 100, 'gamma': 0.001, 'kernel': 'rbf'}</td>\n",
       "      <td>{'C': 100, 'gamma': 0.01, 'kernel': 'rbf'}</td>\n",
       "      <td>{'C': 1000, 'gamma': 0.001, 'kernel': 'rbf'}</td>\n",
       "      <td>{'C': 1000, 'gamma': 0.01, 'kernel': 'rbf'}</td>\n",
       "    </tr>\n",
       "    <tr>\n",
       "      <th>split0_test_score</th>\n",
       "      <td>0.883489</td>\n",
       "      <td>0.883849</td>\n",
       "      <td>0.865011</td>\n",
       "      <td>0.884569</td>\n",
       "      <td>0.861411</td>\n",
       "      <td>0.884569</td>\n",
       "    </tr>\n",
       "    <tr>\n",
       "      <th>split1_test_score</th>\n",
       "      <td>0.879275</td>\n",
       "      <td>0.880475</td>\n",
       "      <td>0.866075</td>\n",
       "      <td>0.881195</td>\n",
       "      <td>0.860314</td>\n",
       "      <td>0.881195</td>\n",
       "    </tr>\n",
       "    <tr>\n",
       "      <th>split2_test_score</th>\n",
       "      <td>0.884795</td>\n",
       "      <td>0.885275</td>\n",
       "      <td>0.865715</td>\n",
       "      <td>0.884315</td>\n",
       "      <td>0.863435</td>\n",
       "      <td>0.884315</td>\n",
       "    </tr>\n",
       "    <tr>\n",
       "      <th>mean_test_score</th>\n",
       "      <td>0.88252</td>\n",
       "      <td>0.8832</td>\n",
       "      <td>0.8656</td>\n",
       "      <td>0.88336</td>\n",
       "      <td>0.86172</td>\n",
       "      <td>0.88336</td>\n",
       "    </tr>\n",
       "    <tr>\n",
       "      <th>std_test_score</th>\n",
       "      <td>0.002356</td>\n",
       "      <td>0.002013</td>\n",
       "      <td>0.000442</td>\n",
       "      <td>0.001534</td>\n",
       "      <td>0.001292</td>\n",
       "      <td>0.001534</td>\n",
       "    </tr>\n",
       "    <tr>\n",
       "      <th>rank_test_score</th>\n",
       "      <td>4</td>\n",
       "      <td>3</td>\n",
       "      <td>5</td>\n",
       "      <td>1</td>\n",
       "      <td>6</td>\n",
       "      <td>1</td>\n",
       "    </tr>\n",
       "    <tr>\n",
       "      <th>split0_train_score</th>\n",
       "      <td>0.958718</td>\n",
       "      <td>1.0</td>\n",
       "      <td>0.99904</td>\n",
       "      <td>1.0</td>\n",
       "      <td>1.0</td>\n",
       "      <td>1.0</td>\n",
       "    </tr>\n",
       "    <tr>\n",
       "      <th>split1_train_score</th>\n",
       "      <td>0.960221</td>\n",
       "      <td>1.0</td>\n",
       "      <td>0.99886</td>\n",
       "      <td>1.0</td>\n",
       "      <td>1.0</td>\n",
       "      <td>1.0</td>\n",
       "    </tr>\n",
       "    <tr>\n",
       "      <th>split2_train_score</th>\n",
       "      <td>0.959021</td>\n",
       "      <td>1.0</td>\n",
       "      <td>0.99844</td>\n",
       "      <td>1.0</td>\n",
       "      <td>1.0</td>\n",
       "      <td>1.0</td>\n",
       "    </tr>\n",
       "    <tr>\n",
       "      <th>mean_train_score</th>\n",
       "      <td>0.95932</td>\n",
       "      <td>1.0</td>\n",
       "      <td>0.99878</td>\n",
       "      <td>1.0</td>\n",
       "      <td>1.0</td>\n",
       "      <td>1.0</td>\n",
       "    </tr>\n",
       "    <tr>\n",
       "      <th>std_train_score</th>\n",
       "      <td>0.000649</td>\n",
       "      <td>0.0</td>\n",
       "      <td>0.000251</td>\n",
       "      <td>0.0</td>\n",
       "      <td>0.0</td>\n",
       "      <td>0.0</td>\n",
       "    </tr>\n",
       "  </tbody>\n",
       "</table>\n",
       "</div>"
      ],
      "text/plain": [
       "                                                             0  \\\n",
       "mean_fit_time                                       935.323572   \n",
       "std_fit_time                                         54.219685   \n",
       "mean_score_time                                     704.999566   \n",
       "std_score_time                                       30.548035   \n",
       "param_C                                                     10   \n",
       "param_gamma                                              0.001   \n",
       "param_kernel                                               rbf   \n",
       "params              {'C': 10, 'gamma': 0.001, 'kernel': 'rbf'}   \n",
       "split0_test_score                                     0.883489   \n",
       "split1_test_score                                     0.879275   \n",
       "split2_test_score                                     0.884795   \n",
       "mean_test_score                                        0.88252   \n",
       "std_test_score                                        0.002356   \n",
       "rank_test_score                                              4   \n",
       "split0_train_score                                    0.958718   \n",
       "split1_train_score                                    0.960221   \n",
       "split2_train_score                                    0.959021   \n",
       "mean_train_score                                       0.95932   \n",
       "std_train_score                                       0.000649   \n",
       "\n",
       "                                                            1  \\\n",
       "mean_fit_time                                      4193.65592   \n",
       "std_fit_time                                        59.723849   \n",
       "mean_score_time                                    1118.76803   \n",
       "std_score_time                                        38.3213   \n",
       "param_C                                                    10   \n",
       "param_gamma                                              0.01   \n",
       "param_kernel                                              rbf   \n",
       "params              {'C': 10, 'gamma': 0.01, 'kernel': 'rbf'}   \n",
       "split0_test_score                                    0.883849   \n",
       "split1_test_score                                    0.880475   \n",
       "split2_test_score                                    0.885275   \n",
       "mean_test_score                                        0.8832   \n",
       "std_test_score                                       0.002013   \n",
       "rank_test_score                                             3   \n",
       "split0_train_score                                        1.0   \n",
       "split1_train_score                                        1.0   \n",
       "split2_train_score                                        1.0   \n",
       "mean_train_score                                          1.0   \n",
       "std_train_score                                           0.0   \n",
       "\n",
       "                                                              2  \\\n",
       "mean_fit_time                                       2312.319777   \n",
       "std_fit_time                                          25.393948   \n",
       "mean_score_time                                      596.532618   \n",
       "std_score_time                                        36.516442   \n",
       "param_C                                                     100   \n",
       "param_gamma                                               0.001   \n",
       "param_kernel                                                rbf   \n",
       "params              {'C': 100, 'gamma': 0.001, 'kernel': 'rbf'}   \n",
       "split0_test_score                                      0.865011   \n",
       "split1_test_score                                      0.866075   \n",
       "split2_test_score                                      0.865715   \n",
       "mean_test_score                                          0.8656   \n",
       "std_test_score                                         0.000442   \n",
       "rank_test_score                                               5   \n",
       "split0_train_score                                      0.99904   \n",
       "split1_train_score                                      0.99886   \n",
       "split2_train_score                                      0.99844   \n",
       "mean_train_score                                        0.99878   \n",
       "std_train_score                                        0.000251   \n",
       "\n",
       "                                                             3  \\\n",
       "mean_fit_time                                      4422.959512   \n",
       "std_fit_time                                        299.220161   \n",
       "mean_score_time                                    1118.591475   \n",
       "std_score_time                                       16.730515   \n",
       "param_C                                                    100   \n",
       "param_gamma                                               0.01   \n",
       "param_kernel                                               rbf   \n",
       "params              {'C': 100, 'gamma': 0.01, 'kernel': 'rbf'}   \n",
       "split0_test_score                                     0.884569   \n",
       "split1_test_score                                     0.881195   \n",
       "split2_test_score                                     0.884315   \n",
       "mean_test_score                                        0.88336   \n",
       "std_test_score                                        0.001534   \n",
       "rank_test_score                                              1   \n",
       "split0_train_score                                         1.0   \n",
       "split1_train_score                                         1.0   \n",
       "split2_train_score                                         1.0   \n",
       "mean_train_score                                           1.0   \n",
       "std_train_score                                            0.0   \n",
       "\n",
       "                                                               4  \\\n",
       "mean_fit_time                                        2425.164634   \n",
       "std_fit_time                                           37.253767   \n",
       "mean_score_time                                       580.343967   \n",
       "std_score_time                                         26.454818   \n",
       "param_C                                                     1000   \n",
       "param_gamma                                                0.001   \n",
       "param_kernel                                                 rbf   \n",
       "params              {'C': 1000, 'gamma': 0.001, 'kernel': 'rbf'}   \n",
       "split0_test_score                                       0.861411   \n",
       "split1_test_score                                       0.860314   \n",
       "split2_test_score                                       0.863435   \n",
       "mean_test_score                                          0.86172   \n",
       "std_test_score                                          0.001292   \n",
       "rank_test_score                                                6   \n",
       "split0_train_score                                           1.0   \n",
       "split1_train_score                                           1.0   \n",
       "split2_train_score                                           1.0   \n",
       "mean_train_score                                             1.0   \n",
       "std_train_score                                              0.0   \n",
       "\n",
       "                                                              5  \n",
       "mean_fit_time                                       4290.382791  \n",
       "std_fit_time                                          57.268851  \n",
       "mean_score_time                                      1080.23657  \n",
       "std_score_time                                        31.113071  \n",
       "param_C                                                    1000  \n",
       "param_gamma                                                0.01  \n",
       "param_kernel                                                rbf  \n",
       "params              {'C': 1000, 'gamma': 0.01, 'kernel': 'rbf'}  \n",
       "split0_test_score                                      0.884569  \n",
       "split1_test_score                                      0.881195  \n",
       "split2_test_score                                      0.884315  \n",
       "mean_test_score                                         0.88336  \n",
       "std_test_score                                         0.001534  \n",
       "rank_test_score                                               1  \n",
       "split0_train_score                                          1.0  \n",
       "split1_train_score                                          1.0  \n",
       "split2_train_score                                          1.0  \n",
       "mean_train_score                                            1.0  \n",
       "std_train_score                                             0.0  "
      ]
     },
     "execution_count": 12,
     "metadata": {},
     "output_type": "execute_result"
    }
   ],
   "source": [
    "results=pd.DataFrame(clf_grid_search.cv_results_)\n",
    "results.T"
   ]
  },
  {
   "cell_type": "code",
   "execution_count": 7,
   "id": "be001285",
   "metadata": {},
   "outputs": [
    {
     "data": {
      "text/plain": [
       "{'C': 100, 'gamma': 0.01, 'kernel': 'rbf'}"
      ]
     },
     "execution_count": 7,
     "metadata": {},
     "output_type": "execute_result"
    }
   ],
   "source": [
    "# to see the best hyperparameters\n",
    "\n",
    "clf_grid_search.best_params_"
   ]
  },
  {
   "cell_type": "code",
   "execution_count": 9,
   "id": "50a8051d",
   "metadata": {},
   "outputs": [
    {
     "data": {
      "text/plain": [
       "0.8833599516286866"
      ]
     },
     "execution_count": 9,
     "metadata": {},
     "output_type": "execute_result"
    }
   ],
   "source": [
    "# to see the best validation score\n",
    "clf_grid_search.best_score_"
   ]
  },
  {
   "cell_type": "code",
   "execution_count": 15,
   "id": "8826762c",
   "metadata": {},
   "outputs": [],
   "source": [
    "y_train_pred = clf_grid_search.predict(X_train)"
   ]
  },
  {
   "cell_type": "code",
   "execution_count": 16,
   "id": "1f31ad92",
   "metadata": {},
   "outputs": [
    {
     "name": "stdout",
     "output_type": "stream",
     "text": [
      "train/validation accuracy: 1.0\n"
     ]
    }
   ],
   "source": [
    "accuracy_train = accuracy_score(y_train, y_train_pred)\n",
    "print(f'train/validation accuracy: {accuracy_train}')"
   ]
  },
  {
   "cell_type": "code",
   "execution_count": 10,
   "id": "06f8f838",
   "metadata": {},
   "outputs": [
    {
     "data": {
      "text/plain": [
       "SVC(C=100, gamma=0.01, random_state=42)"
      ]
     },
     "execution_count": 10,
     "metadata": {},
     "output_type": "execute_result"
    }
   ],
   "source": [
    "# to see the best hyperparameters\n",
    "clf_svc = clf_grid_search.best_estimator_\n",
    "clf_svc"
   ]
  },
  {
   "cell_type": "markdown",
   "id": "a0f9ada1",
   "metadata": {},
   "source": [
    "modèle avec best hyperparameters est over fitting\n",
    "\n",
    "    train score(accuracy): 1.0\n",
    "    validation score(accuracy) : 0.8833599516286866"
   ]
  },
  {
   "cell_type": "markdown",
   "id": "023a6049",
   "metadata": {},
   "source": [
    "donc c'est mieux de prendre le modèle avec test_rank_score=4\n",
    "\n",
    "    train score(accuracy): 0.95932\n",
    "    validation score(accuracy) : 0.88252\n",
    "    train score(accuracy) - validation score(accuracy) = 0.0768\n",
    "\n",
    "    SVC(C=10, gamma=0.001, kernel=rbf, random_state=42)"
   ]
  },
  {
   "cell_type": "markdown",
   "id": "51bb131d",
   "metadata": {},
   "source": [
    "### Focus sur le meilleur modele"
   ]
  },
  {
   "cell_type": "markdown",
   "id": "2e979071",
   "metadata": {},
   "source": [
    "#### matrix de confusion"
   ]
  },
  {
   "cell_type": "code",
   "execution_count": 18,
   "id": "979f6479",
   "metadata": {},
   "outputs": [],
   "source": [
    "#création de matrix de confusion\n",
    "cm_train = confusion_matrix(y_train, y_train_pred)"
   ]
  },
  {
   "cell_type": "code",
   "execution_count": 19,
   "id": "f44fafed",
   "metadata": {},
   "outputs": [
    {
     "data": {
      "text/plain": [
       "array([[12500,     0],\n",
       "       [    0, 12500]], dtype=int64)"
      ]
     },
     "execution_count": 19,
     "metadata": {},
     "output_type": "execute_result"
    }
   ],
   "source": [
    "cm_train"
   ]
  },
  {
   "cell_type": "code",
   "execution_count": null,
   "id": "31b0bdb3",
   "metadata": {},
   "outputs": [],
   "source": []
  },
  {
   "cell_type": "markdown",
   "id": "93423aef",
   "metadata": {},
   "source": [
    "### save the best model avec joblib"
   ]
  },
  {
   "cell_type": "code",
   "execution_count": 11,
   "id": "77678638",
   "metadata": {},
   "outputs": [
    {
     "name": "stdout",
     "output_type": "stream",
     "text": [
      "Wall time: 965 ms\n"
     ]
    },
    {
     "data": {
      "text/plain": [
       "['clf_svc.pkl']"
      ]
     },
     "execution_count": 11,
     "metadata": {},
     "output_type": "execute_result"
    }
   ],
   "source": [
    "%%time\n",
    "# 構築したモデルの保存\n",
    "# best_estimator_ over fitting\n",
    "filename = 'clf_svc.pkl'\n",
    "joblib.dump(clf_svc,filename)"
   ]
  },
  {
   "cell_type": "markdown",
   "id": "093806cc",
   "metadata": {},
   "source": [
    "le modéle non over fitting"
   ]
  },
  {
   "cell_type": "code",
   "execution_count": 3,
   "id": "82c19d95",
   "metadata": {},
   "outputs": [],
   "source": [
    "clf_svc_best = SVC(C=10, gamma=0.001, kernel='rbf', random_state=42)"
   ]
  },
  {
   "cell_type": "code",
   "execution_count": 7,
   "id": "a525b5c0",
   "metadata": {},
   "outputs": [
    {
     "data": {
      "text/plain": [
       "SVC(C=10, gamma=0.001, random_state=42)"
      ]
     },
     "execution_count": 7,
     "metadata": {},
     "output_type": "execute_result"
    }
   ],
   "source": [
    "clf_svc_best.fit(X_train, y_train)"
   ]
  },
  {
   "cell_type": "code",
   "execution_count": 8,
   "id": "d17ad7a6",
   "metadata": {},
   "outputs": [
    {
     "name": "stdout",
     "output_type": "stream",
     "text": [
      "Wall time: 679 ms\n"
     ]
    },
    {
     "data": {
      "text/plain": [
       "['clf_svc_best.pkl']"
      ]
     },
     "execution_count": 8,
     "metadata": {},
     "output_type": "execute_result"
    }
   ],
   "source": [
    "%%time\n",
    "# 構築したモデルの保存\n",
    "filename = 'clf_svc_best.pkl'\n",
    "joblib.dump(clf_svc_best,filename)"
   ]
  },
  {
   "cell_type": "code",
   "execution_count": null,
   "id": "93226f70",
   "metadata": {},
   "outputs": [],
   "source": []
  },
  {
   "cell_type": "markdown",
   "id": "35ab2707",
   "metadata": {},
   "source": [
    "https://www.salesanalytics.co.jp/datascience/datascience044/"
   ]
  },
  {
   "cell_type": "code",
   "execution_count": null,
   "id": "438e420a",
   "metadata": {},
   "outputs": [],
   "source": []
  },
  {
   "cell_type": "code",
   "execution_count": null,
   "id": "1face0c1",
   "metadata": {},
   "outputs": [],
   "source": []
  }
 ],
 "metadata": {
  "kernelspec": {
   "display_name": "Python 3 (ipykernel)",
   "language": "python",
   "name": "python3"
  },
  "language_info": {
   "codemirror_mode": {
    "name": "ipython",
    "version": 3
   },
   "file_extension": ".py",
   "mimetype": "text/x-python",
   "name": "python",
   "nbconvert_exporter": "python",
   "pygments_lexer": "ipython3",
   "version": "3.8.12"
  }
 },
 "nbformat": 4,
 "nbformat_minor": 5
}
