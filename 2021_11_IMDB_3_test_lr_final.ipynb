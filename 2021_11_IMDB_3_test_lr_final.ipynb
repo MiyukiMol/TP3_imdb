{
 "cells": [
  {
   "cell_type": "code",
   "execution_count": 1,
   "id": "61884122",
   "metadata": {},
   "outputs": [],
   "source": [
    "import numpy as np\n",
    "import pandas as pd\n",
    "import matplotlib.pyplot as plt\n",
    "import seaborn as sns \n",
    "import joblib\n",
    "import pickle as pkl\n",
    "from sklearn.svm import SVC\n",
    "from sklearn.model_selection import GridSearchCV\n",
    "from sklearn.metrics import accuracy_score\n",
    "from sklearn.metrics import f1_score\n",
    "from sklearn.metrics import roc_auc_score\n",
    "from sklearn.metrics import roc_curve\n",
    "from sklearn.metrics import auc\n",
    "from sklearn.metrics import plot_roc_curve\n",
    "from sklearn.metrics import confusion_matrix"
   ]
  },
  {
   "cell_type": "markdown",
   "id": "610e3cfb",
   "metadata": {},
   "source": [
    "#### chargement des donnée de test"
   ]
  },
  {
   "cell_type": "code",
   "execution_count": 2,
   "id": "1ebe1721",
   "metadata": {},
   "outputs": [],
   "source": [
    "X_test = joblib.load(\"X_test.joblib\")"
   ]
  },
  {
   "cell_type": "code",
   "execution_count": 3,
   "id": "5e3e114a",
   "metadata": {},
   "outputs": [],
   "source": [
    "y_test = joblib.load(\"y_test.joblib\")"
   ]
  },
  {
   "cell_type": "markdown",
   "id": "8835cc11",
   "metadata": {},
   "source": [
    "#### chargement de modèle"
   ]
  },
  {
   "cell_type": "code",
   "execution_count": 4,
   "id": "d524805e",
   "metadata": {},
   "outputs": [],
   "source": [
    "model_lr = joblib.load(\"clf_lr_best.pkl\")"
   ]
  },
  {
   "cell_type": "code",
   "execution_count": 5,
   "id": "7d1ea0f4",
   "metadata": {},
   "outputs": [
    {
     "data": {
      "text/plain": [
       "LogisticRegression(C=0.01, class_weight='balanced', random_state=42,\n",
       "                   warm_start=True)"
      ]
     },
     "execution_count": 5,
     "metadata": {},
     "output_type": "execute_result"
    }
   ],
   "source": [
    "model_lr"
   ]
  },
  {
   "cell_type": "markdown",
   "id": "f478896d",
   "metadata": {},
   "source": [
    "#### test avec le modèle"
   ]
  },
  {
   "cell_type": "code",
   "execution_count": 6,
   "id": "6c5f9539",
   "metadata": {},
   "outputs": [],
   "source": [
    "y_test_pred = model_lr.predict(X_test)"
   ]
  },
  {
   "cell_type": "code",
   "execution_count": 7,
   "id": "a43beb59",
   "metadata": {},
   "outputs": [
    {
     "name": "stdout",
     "output_type": "stream",
     "text": [
      "test accuracy: 0.88012\n"
     ]
    }
   ],
   "source": [
    "accuracy_test = accuracy_score(y_test, y_test_pred)\n",
    "print(f'test accuracy: {accuracy_test}')"
   ]
  },
  {
   "cell_type": "code",
   "execution_count": 9,
   "id": "3287b0aa",
   "metadata": {},
   "outputs": [
    {
     "data": {
      "text/plain": [
       "0.88012"
      ]
     },
     "execution_count": 9,
     "metadata": {},
     "output_type": "execute_result"
    }
   ],
   "source": [
    "# test score = accuracy\n",
    "model_lr.score(X_test, y_test)"
   ]
  },
  {
   "cell_type": "code",
   "execution_count": 10,
   "id": "8419a39f",
   "metadata": {},
   "outputs": [
    {
     "name": "stdout",
     "output_type": "stream",
     "text": [
      "F1 score for test: 0.881\n"
     ]
    }
   ],
   "source": [
    "f1 = f1_score(y_test, y_test_pred)\n",
    "print('F1 score for test: {:.3f}'.format(f1))"
   ]
  },
  {
   "cell_type": "markdown",
   "id": "99572dd5",
   "metadata": {},
   "source": [
    "#### Courbe ROC, AUC for test"
   ]
  },
  {
   "cell_type": "code",
   "execution_count": 11,
   "id": "541bb0e9",
   "metadata": {},
   "outputs": [],
   "source": [
    "roc_auc_score = roc_auc_score(y_test, y_test_pred)"
   ]
  },
  {
   "cell_type": "code",
   "execution_count": 12,
   "id": "3de9a03e",
   "metadata": {},
   "outputs": [
    {
     "name": "stdout",
     "output_type": "stream",
     "text": [
      "AUC_test : 0.880\n"
     ]
    }
   ],
   "source": [
    "print('AUC_test : {:.3f}'.format(roc_auc_score))"
   ]
  },
  {
   "cell_type": "code",
   "execution_count": 13,
   "id": "37859207",
   "metadata": {},
   "outputs": [
    {
     "name": "stdout",
     "output_type": "stream",
     "text": [
      "AUC_test : 0.880\n"
     ]
    }
   ],
   "source": [
    "fpr, tpr, thresholds = roc_curve(y_test, y_test_pred)\n",
    "roc_auc = auc(fpr, tpr)\n",
    "print('AUC_test : {:.3f}'.format(roc_auc))"
   ]
  },
  {
   "cell_type": "code",
   "execution_count": 14,
   "id": "16a3a832",
   "metadata": {},
   "outputs": [],
   "source": [
    "fpr, tpr, thresholds = roc_curve(y_test, y_test_pred)"
   ]
  },
  {
   "cell_type": "code",
   "execution_count": 15,
   "id": "2acdd273",
   "metadata": {},
   "outputs": [],
   "source": [
    "auc = auc(fpr, tpr)"
   ]
  },
  {
   "cell_type": "code",
   "execution_count": 18,
   "id": "cd0bc7f2",
   "metadata": {},
   "outputs": [
    {
     "data": {
      "image/png": "[encoded data removed]",
      "text/plain": [
       "<Figure size 432x288 with 1 Axes>"
      ]
     },
     "metadata": {
      "needs_background": "light"
     },
     "output_type": "display_data"
    }
   ],
   "source": [
    "plt.plot(fpr, tpr, label='ROC curve (area = %.2f)'%auc)\n",
    "plt.legend()\n",
    "plt.xlabel('FPR: False positive rate')\n",
    "plt.ylabel('TPR: True positive rate')\n",
    "plt.grid()\n",
    "plt.show()"
   ]
  },
  {
   "cell_type": "markdown",
   "id": "43247142",
   "metadata": {},
   "source": [
    "#### matrix de confusion"
   ]
  },
  {
   "cell_type": "code",
   "execution_count": 19,
   "id": "70d4d32f",
   "metadata": {},
   "outputs": [],
   "source": [
    "#création de matrix de confusion\n",
    "cm_test = confusion_matrix(y_test, y_test_pred)"
   ]
  },
  {
   "cell_type": "code",
   "execution_count": 20,
   "id": "8e4417a6",
   "metadata": {},
   "outputs": [
    {
     "data": {
      "text/plain": [
       "array([[10910,  1590],\n",
       "       [ 1407, 11093]], dtype=int64)"
      ]
     },
     "execution_count": 20,
     "metadata": {},
     "output_type": "execute_result"
    }
   ],
   "source": [
    "cm_test"
   ]
  },
  {
   "cell_type": "code",
   "execution_count": 21,
   "id": "8cd2caaf",
   "metadata": {},
   "outputs": [
    {
     "data": {
      "image/png": "[encoded data removed]",
      "text/plain": [
       "<Figure size 432x288 with 2 Axes>"
      ]
     },
     "metadata": {
      "needs_background": "light"
     },
     "output_type": "display_data"
    }
   ],
   "source": [
    "#pour RAJOUTER les labels et les pourcentages sur le graphique, passer par seaborn\n",
    "#fig = plt.figure(figsize=(15, 7), dpi=100)\n",
    "ax= plt.subplot()\n",
    "\n",
    "group_names = ['True_Neg','False_Pos','False_Neg','True_Pos']\n",
    "group_counts = [\"{0:0.0f}\".format(value) for value in cm_test.flatten()]\n",
    "group_percentages1 = [\"{0:.3%}\".format(value) for value in cm_test.flatten()[0:2]/np.sum(cm_test.flatten()[0:2])]\n",
    "group_percentages2 = [\"{0:.3%}\".format(value) for value in cm_test.flatten()[2:]/np.sum(cm_test.flatten()[2:])]\n",
    "group_percentages = np.append(group_percentages1, group_percentages2).tolist()\n",
    "labels = [f\"{v1}\\n{v2}\\n{v3}\" for v1, v2, v3 in zip (group_names, group_counts, group_percentages)]\n",
    "labels = np.array(labels).reshape(2,2)\n",
    "\n",
    "sns.heatmap(cm_test, annot=labels, fmt='', cmap='Blues')\n",
    "\n",
    "ax.set_xlabel('Predited labels')\n",
    "ax.set_ylabel('True labels') \n",
    "ax.set_title('Confusion Matrix Test') \n",
    "\n",
    "plt.show()"
   ]
  },
  {
   "cell_type": "markdown",
   "id": "408a3b68",
   "metadata": {},
   "source": [
    "conclusion :\n",
    "\n",
    "    J'ai utilisé 2 modèles, LogisticRegression et svc.\n",
    "\n",
    "    Je constate qu'il a fallu 40 heures pour le grid search pour le modèle svc et que je ne pouvais pas règler bien car il me demande trop de temps. C'est pour cela que le résultat avec mon modèles svc est over fitting et je n'ai pas eu de temps pour aller loin. Je pense que le modèle avec LogisticRegression est mieux même si j'aurai du temps.\n",
    "\n",
    "    J'ai obtenu test score(accuracy) de 0.880 avec logisticRegression\n",
    "    LogisticRegression(C=0.01, class_weight='balanced', random_state=42,\n",
    "                   warm_start=True)\n",
    "    AUC : 0.88\n",
    "    matrix de confusion : [10910,  1590],\n",
    "                          [ 1407, 11093]\n",
    "      "
   ]
  },
  {
   "cell_type": "code",
   "execution_count": null,
   "id": "595fc933",
   "metadata": {},
   "outputs": [],
   "source": []
  },
  {
   "cell_type": "code",
   "execution_count": null,
   "id": "f3283613",
   "metadata": {},
   "outputs": [],
   "source": []
  },
  {
   "cell_type": "markdown",
   "id": "61afb509",
   "metadata": {},
   "source": [
    "ROC曲線(Receiver Operatorating Characteristic curve)は，受信者動作特性曲線とも呼ばれており，二値分類タスクの評価指標です。\n",
    "\n",
    "具体的には，各データに対してスコアを定めて，ある閾値を上回るか下回るかで二値に識別するタスクにおいて，閾値を変化させることで「FPR」と「TPR」がどのように変化していくかを表した図がROC曲線になります。ROC曲線の横軸は「FPR」，縦軸は「TPR」になっています。\n",
    "\n",
    "    TPR：モデルが正と判断して正解だった割合\n",
    "    FPR：モデルが正と判断して不正解だった割合\n",
    "    \n",
    "    "
   ]
  },
  {
   "cell_type": "markdown",
   "id": "322357e6",
   "metadata": {},
   "source": [
    "AUC（Area Under the Curve）は，ROC曲線の下側面積のことを指します。一般に，AUCは大きければ大きいほど良いとされています。なぜなら，AUCが1ということは，閾値を適切に定めれば「陽性と判断して陰性と間違う可能性がない」ことを意味します。いわば，テストデータの陽性に対して完ぺきな分類器が生成できていることを意味します。\n",
    "\n",
    "逆に，AUCが0.5に近いということは，ランダムな分類器ができてしまっていることを意味します。陰性と陽性の出力をランダムにすれば，正解する割合も0.5であるため，AUCは0.5に近づくからです。"
   ]
  },
  {
   "cell_type": "code",
   "execution_count": null,
   "id": "6f537863",
   "metadata": {},
   "outputs": [],
   "source": []
  },
  {
   "cell_type": "markdown",
   "id": "61434aae",
   "metadata": {},
   "source": [
    "https://note.nkmk.me/python-sklearn-roc-curve-auc-score/\n",
    "\n",
    "https://ichi.pro/shizen-gengo-shori-no-shoshinshamuke-gaido-pa-to-1-126973807478989\n",
    "\n",
    "https://tips-memo.com/python-roc"
   ]
  },
  {
   "cell_type": "code",
   "execution_count": null,
   "id": "a35d2c97",
   "metadata": {},
   "outputs": [],
   "source": []
  },
  {
   "cell_type": "code",
   "execution_count": null,
   "id": "41cbcc3c",
   "metadata": {},
   "outputs": [],
   "source": []
  },
  {
   "cell_type": "code",
   "execution_count": null,
   "id": "3a8f3e0a",
   "metadata": {},
   "outputs": [],
   "source": []
  }
 ],
 "metadata": {
  "kernelspec": {
   "display_name": "Python 3 (ipykernel)",
   "language": "python",
   "name": "python3"
  },
  "language_info": {
   "codemirror_mode": {
    "name": "ipython",
    "version": 3
   },
   "file_extension": ".py",
   "mimetype": "text/x-python",
   "name": "python",
   "nbconvert_exporter": "python",
   "pygments_lexer": "ipython3",
   "version": "3.8.12"
  }
 },
 "nbformat": 4,
 "nbformat_minor": 5
}
